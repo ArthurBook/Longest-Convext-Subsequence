{
 "cells": [
  {
   "cell_type": "code",
   "execution_count": null,
   "metadata": {},
   "outputs": [],
   "source": [
    "class node:\n",
    "    def __init__(self, dataval=None):\n",
    "        self.dataval = dataval\n",
    "        self.nextval = None\n",
    "            \n",
    "def lcs(x,y):\n",
    "    '''\n",
    "    Returns the index of the Longest Convex Subsequence of lists y,x \n",
    "    which refer to points with coordinates x[i],y[i]\n",
    "    '''\n",
    "    \n",
    "    if len(x) != len(y): raise ValueError(\"x and y need to be the same length\")\n",
    "    if len(x) < 3: return list(range(x))\n",
    "        \n",
    "    x,y,order = np.array(x),np.array(y),np.argsort(x)\n",
    "    x,y = x[order], y[order]  #sort in ascending order\n",
    "        \n",
    "    #gather the positive slopes and their coordinates\n",
    "    slopes = [[(y[j] - y[i]) / (x[j] - x[i]),[i,j]] \n",
    "              for i,j in itertools.combinations(range(len(x)),2)\n",
    "              if y[j] >= y[i] ] #piece has positive slopes\n",
    "    \n",
    "    #Sort by increasing slope and in case of equal slope by second index \n",
    "    slopes = sorted(slopes,key= lambda e: [e[0], e[1][1]])\n",
    "    \n",
    "    #Initiate nodes that tracks backwards pointers for convex subsequences\n",
    "    tree = [node(i) for i in range(len(x))] \n",
    "    L = np.ones(len(x)) #tracks length of the lcs\n",
    "    for p in [i[1] for i in slopes]:\n",
    "        if L[p[1]] < L[p[0]]+1:\n",
    "            L[p[1]] = L[p[0]]+1\n",
    "            tree[p[1]] = node(p[1])\n",
    "            tree[p[1]].nextval = tree[p[0]]\n",
    "    \n",
    "    #chose and write out longest subsequences\n",
    "    seqs = np.array(tree)[[i for i,s in enumerate(L) if s == max(L, default=0)]]    \n",
    "    for i,s in enumerate(seqs):\n",
    "        temp = []\n",
    "        while s:\n",
    "            temp.append(s.dataval)\n",
    "            s = s.nextval\n",
    "        seqs[i] = temp\n",
    "\n",
    "    #Return the lcs that covers the largest range\n",
    "    longest = max(seqs, key = lambda e: [max(e,default=0)-min(e,default=0)])\n",
    "    return sorted(order[longest])"
   ]
  }
 ],
 "metadata": {
  "kernelspec": {
   "display_name": "Python 3",
   "language": "python",
   "name": "python3"
  },
  "language_info": {
   "codemirror_mode": {
    "name": "ipython",
    "version": 3
   },
   "file_extension": ".py",
   "mimetype": "text/x-python",
   "name": "python",
   "nbconvert_exporter": "python",
   "pygments_lexer": "ipython3",
   "version": "3.7.0"
  }
 },
 "nbformat": 4,
 "nbformat_minor": 2
}
